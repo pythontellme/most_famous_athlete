{
 "cells": [
  {
   "cell_type": "markdown",
   "metadata": {},
   "source": [
    "# WHO'S THE MOST FAMOUS ATHLETE OF THE LAST DECADE?"
   ]
  },
  {
   "cell_type": "markdown",
   "metadata": {},
   "source": [
    "## CLEANING THE DATA"
   ]
  },
  {
   "cell_type": "code",
   "execution_count": null,
   "metadata": {},
   "outputs": [],
   "source": [
    "# Import pandas\n",
    "import pandas as pd\n",
    "\n",
    "# Read in dataset from csv file\n",
    "trends = pd.read_csv(\"google_trends_data.csv\")\n",
    "\n",
    "# Inspect top rows of data\n",
    "print(trends.head())\n",
    "\n",
    "# Inspect data types\n",
    "print(trends.info())"
   ]
  },
  {
   "cell_type": "code",
   "execution_count": null,
   "metadata": {},
   "outputs": [],
   "source": [
    "# Change column names\n",
    "trends.columns = ['month', 'mayweather', 'ronaldo', 'messi', 'james', 'federer']\n",
    "\n",
    "# Convert month to type datetime\n",
    "trends['month'] = pd.to_datetime(trends['month'])\n",
    "\n",
    "# Set month as DataFrame index\n",
    "trends = trends.set_index('month')\n",
    "\n",
    "# Inspect the data\n",
    "print(trends.head())"
   ]
  },
  {
   "cell_type": "markdown",
   "metadata": {},
   "source": [
    "## VISUALIZING THE DATA"
   ]
  },
  {
   "cell_type": "code",
   "execution_count": null,
   "metadata": {},
   "outputs": [],
   "source": [
    "# Import pyplot from matplotlib\n",
    "from matplotlib import pyplot as plt\n",
    "\n",
    "# Plot search interest with months on horizontal axis\n",
    "trends.plot()\n",
    "plt.show() "
   ]
  },
  {
   "cell_type": "code",
   "execution_count": null,
   "metadata": {},
   "outputs": [],
   "source": [
    "# Zoom in from beginning of 2015 to end of 2017\n",
    "trends.loc['2015-01-01':'2017-12-31'].plot()\n",
    "plt.show()"
   ]
  },
  {
   "cell_type": "code",
   "execution_count": null,
   "metadata": {},
   "outputs": [],
   "source": [
    "# Smooth the data with a 12-month rolling average\n",
    "trends.rolling(window=12).mean().plot()\n",
    "plt.show()"
   ]
  },
  {
   "cell_type": "code",
   "execution_count": null,
   "metadata": {},
   "outputs": [],
   "source": [
    "# Create new columns with search interest for soccer stars vs other 3\n",
    "trends['soccer stars'] = (trends.ronaldo + trends.messi)/2\n",
    "trends['other 3 stars'] = (trends.mayweather + trends.james + trends.federer)/3\n",
    "\n",
    "# Plot rolling search interest soccer vs other \n",
    "trends.loc[:,['soccer stars','other 3 stars']].rolling(window=12).mean().plot()\n",
    "plt.show()"
   ]
  },
  {
   "cell_type": "markdown",
   "metadata": {},
   "source": [
    "## THE VERDICT"
   ]
  },
  {
   "cell_type": "code",
   "execution_count": null,
   "metadata": {},
   "outputs": [],
   "source": [
    "# Show average interest for each athlete in bar chart \n",
    "trends.iloc[:,0:5].mean().plot.bar()\n",
    "plt.show()"
   ]
  }
 ],
 "metadata": {
  "kernelspec": {
   "display_name": "Python 3",
   "language": "python",
   "name": "python3"
  },
  "language_info": {
   "codemirror_mode": {
    "name": "ipython",
    "version": 3
   },
   "file_extension": ".py",
   "mimetype": "text/x-python",
   "name": "python",
   "nbconvert_exporter": "python",
   "pygments_lexer": "ipython3",
   "version": "3.8.1"
  }
 },
 "nbformat": 4,
 "nbformat_minor": 4
}
